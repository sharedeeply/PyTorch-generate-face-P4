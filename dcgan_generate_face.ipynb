{
 "cells": [
  {
   "cell_type": "markdown",
   "metadata": {},
   "source": [
    "## DCGAN 生成人脸\n",
    "在这个项目中，我们会使用前面学到的深度卷积生成对抗网络来生成人脸，使用 CalebA 人脸数据集，一共有202599张人脸图片。"
   ]
  },
  {
   "cell_type": "markdown",
   "metadata": {},
   "source": [
    "首先我们导入需要的库"
   ]
  },
  {
   "cell_type": "code",
   "execution_count": null,
   "metadata": {
    "collapsed": true
   },
   "outputs": [],
   "source": [
    "import torch\n",
    "from torch import nn\n",
    "from torch.autograd import Variable\n",
    "\n",
    "import torchvision.transforms as tfs\n",
    "from torch.utils.data import DataLoader, sampler\n",
    "from torchvision.datasets import ImageFolder\n",
    "\n",
    "import numpy as np\n",
    "\n",
    "import matplotlib.pyplot as plt\n",
    "import matplotlib.gridspec as gridspec\n",
    "from utils import show_images, preprocess_img, deprocess_img\n",
    "\n",
    "%matplotlib inline\n",
    "plt.rcParams['figure.figsize'] = (10.0, 8.0) # 设置画图的尺寸\n",
    "plt.rcParams['image.interpolation'] = 'nearest'"
   ]
  },
  {
   "cell_type": "markdown",
   "metadata": {},
   "source": [
    "下面我们可视化一张图片看看"
   ]
  },
  {
   "cell_type": "code",
   "execution_count": null,
   "metadata": {},
   "outputs": [],
   "source": [
    "from PIL import Image\n",
    "im = Image.open('./dataset/img_align_celeba/000001.jpg')\n",
    "im"
   ]
  },
  {
   "cell_type": "markdown",
   "metadata": {},
   "source": [
    "可以看到在这张图片上，人脸只占中心的部分，所以我们会做一个预处理，取出图片中心的人脸图像，然后 resize 到 (28, 28) 的大小\n",
    "\n",
    "下面我们取出一个 batch_size 的图像进行可视化"
   ]
  },
  {
   "cell_type": "code",
   "execution_count": null,
   "metadata": {
    "collapsed": true
   },
   "outputs": [],
   "source": [
    "# 可以调整的超参数\n",
    "batch_size = 32\n",
    "use_gpu = True\n",
    "NOISE_DIM = 96\n",
    "epochs = 30\n",
    "\n",
    "# ========不要修改下面的部分========\n",
    "train_set = ImageFolder('./dataset/', transform=preprocess_img)\n",
    "\n",
    "train_data = DataLoader(train_set, batch_size=batch_size, shuffle=True, num_workers=4)\n",
    "\n",
    "\n",
    "imgs = deprocess_img(iter(train_data).next()[0].numpy()) # 可视化图片效果\n",
    "show_images(imgs)"
   ]
  },
  {
   "cell_type": "markdown",
   "metadata": {},
   "source": [
    "## 建立模型\n",
    "\n",
    "### 构建判别网络\n",
    "首先建立判别网络，由前面的课程我们知道判别网络就是一个二分类网络"
   ]
  },
  {
   "cell_type": "code",
   "execution_count": null,
   "metadata": {
    "collapsed": true
   },
   "outputs": [],
   "source": [
    "class build_dc_classifier(nn.Module):\n",
    "    def __init__(self):\n",
    "        super(build_dc_classifier, self).__init__()\n",
    "        # todo: 建立判别网络"
   ]
  },
  {
   "cell_type": "markdown",
   "metadata": {},
   "source": [
    "### 建立生成网络\n",
    "下面我们利用线性层和反卷积来建立一个生成网络，可以查看一下前面的课程寻找一些灵感"
   ]
  },
  {
   "cell_type": "code",
   "execution_count": null,
   "metadata": {
    "collapsed": true
   },
   "outputs": [],
   "source": [
    "class build_dc_generator(nn.Module): \n",
    "    def __init__(self, noise_dim=NOISE_DIM):\n",
    "        super(build_dc_generator, self).__init__()\n",
    "        # todo: 建立生成网络"
   ]
  },
  {
   "cell_type": "markdown",
   "metadata": {},
   "source": [
    "### 构建 loss\n",
    "在前面的课程中我们已经描述并实现过生成对抗网络的loss，下面请不要查看前面的课程，自己再实现一下"
   ]
  },
  {
   "cell_type": "code",
   "execution_count": null,
   "metadata": {
    "collapsed": true
   },
   "outputs": [],
   "source": [
    "bce_loss = nn.BCEWithLogitsLoss()\n",
    "\n",
    "def discriminator_loss(logits_real, logits_fake):\n",
    "    # todo: 完成判别器的 loss"
   ]
  },
  {
   "cell_type": "code",
   "execution_count": null,
   "metadata": {
    "collapsed": true
   },
   "outputs": [],
   "source": [
    "def generator_loss(logits_fake):\n",
    "    # todo: 完成生成器的 loss"
   ]
  },
  {
   "cell_type": "code",
   "execution_count": null,
   "metadata": {
    "collapsed": true
   },
   "outputs": [],
   "source": [
    "def get_optimizer(net):\n",
    "    # todo: 使用 adam 进行优化，自己尝试一些学习率"
   ]
  },
  {
   "cell_type": "markdown",
   "metadata": {},
   "source": [
    "下面请根据提示完成生成对抗网络的训练过程"
   ]
  },
  {
   "cell_type": "code",
   "execution_count": null,
   "metadata": {
    "collapsed": true
   },
   "outputs": [],
   "source": [
    "def train_dc_gan(D_net, G_net, D_optimizer, G_optimizer, discriminator_loss, generator_loss, show_every=250, \n",
    "                noise_size=NOISE_DIM, num_epochs=10):\n",
    "    iter_count = 0\n",
    "    for epoch in range(num_epochs):\n",
    "        for x, _ in train_data:\n",
    "            bs = x.shape[0]\n",
    "            if use_gpu:\n",
    "                x = x.cuda()\n",
    "                \n",
    "            # ======== 判别网络 =========\n",
    "            # 真实数据\n",
    "            real_data = Variable(x)\n",
    "            # todo: 判别网络判断真实数据得分\n",
    "            \n",
    "            sample_noise = None # todo: 生成 -1 ~ 1 的均匀分布噪声数据，形状是 (bs, NOISE_DIM)\n",
    "            if use_gpu:\n",
    "                sample_noise = sample_noise.cuda()\n",
    "            g_fake_seed = Variable(sample_noise)\n",
    "            \n",
    "            fake_images = None # todo: 通过生成网络生成的假的数据\n",
    "            logits_fake = None # todo: 判别网络判断假的数据得分\n",
    "\n",
    "            d_total_error = None #todo: 判别器的 loss\n",
    "            \n",
    "            # todo: 反向传播，更新判别网络的参数\n",
    "    \n",
    "            \n",
    "            # ======== 生成网络 ==========\n",
    "            g_fake_seed = Variable(sample_noise)\n",
    "            fake_images = # todo: 通过生成网络生成的假的数据\n",
    "\n",
    "            gen_logits_fake = # todo: 判别网络判断假的数据得分\n",
    "            g_error = #todo: 得到生成器的 loss\n",
    "            \n",
    "            # todo: 反向传播，更新生成网络的参数\n",
    "\n",
    "            if (iter_count % show_every == 0):\n",
    "                print('Iter: {}, D: {:.4}, G:{:.4}'.format(iter_count, d_total_error.data[0], g_error.data[0]))\n",
    "                imgs_numpy = deprocess_img(fake_images.data.cpu().numpy())\n",
    "                show_images(imgs_numpy[0:16])\n",
    "                plt.show()\n",
    "                print()\n",
    "            iter_count += 1"
   ]
  },
  {
   "cell_type": "markdown",
   "metadata": {},
   "source": [
    "定义完了训练生成对抗网络的过程，我们下面进行训练，看看能否生成比较像真人的人脸"
   ]
  },
  {
   "cell_type": "code",
   "execution_count": null,
   "metadata": {
    "collapsed": true,
    "scrolled": false
   },
   "outputs": [],
   "source": [
    "D_DC = build_dc_classifier()\n",
    "G_DC = build_dc_generator()\n",
    "\n",
    "if use_gpu:\n",
    "    D_DC = D_DC.cuda()\n",
    "    G_DC = G_DC.cuda()\n",
    "\n",
    "D_DC_optim = get_optimizer(D_DC)\n",
    "G_DC_optim = get_optimizer(G_DC)\n",
    "\n",
    "train_dc_gan(D_DC, G_DC, D_DC_optim, G_DC_optim, discriminator_loss, generator_loss, num_epochs=epochs)"
   ]
  }
 ],
 "metadata": {
  "kernelspec": {
   "display_name": "Python 3",
   "language": "python",
   "name": "python3"
  },
  "language_info": {
   "codemirror_mode": {
    "name": "ipython",
    "version": 3
   },
   "file_extension": ".py",
   "mimetype": "text/x-python",
   "name": "python",
   "nbconvert_exporter": "python",
   "pygments_lexer": "ipython3",
   "version": "3.6.3"
  }
 },
 "nbformat": 4,
 "nbformat_minor": 2
}
